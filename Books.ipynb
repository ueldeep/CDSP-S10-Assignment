{
 "cells": [
  {
   "cell_type": "code",
   "execution_count": 1,
   "metadata": {},
   "outputs": [],
   "source": [
    "import requests\n",
    "import string\n",
    "from time import sleep\n",
    "from bs4 import BeautifulSoup\n",
    "import csv"
   ]
  },
  {
   "cell_type": "code",
   "execution_count": 2,
   "metadata": {},
   "outputs": [],
   "source": [
    "debug = True\n",
    "def dprint (str):\n",
    "    if debug: print(str)"
   ]
  },
  {
   "cell_type": "code",
   "execution_count": 3,
   "metadata": {},
   "outputs": [],
   "source": [
    "def get_bs_element(soup, chain, all_instances = False):\n",
    "    '''\n",
    "    This function retrives an element from BeautifulSoup parsed html text.\n",
    "    \n",
    "    return: BeautifulSoup elements if all_instance is True or the first \n",
    "            instant if it is False\n",
    "    Arg:\n",
    "    Soup: is a BeautifulSoup object of parsed html.\n",
    "    chain: is a list of dictionary which has two keys:\n",
    "            1) 'element':string of element to find in soup boject\n",
    "            2) 'attrs': dictinaru of attributes to pass to soup find function\n",
    "            e.g:\n",
    "            [{'element':'lu', 'attrs':{}},\n",
    "             {'element':'lu'},\n",
    "             {'element':'li', 'attrs':{'class':'value'}] \n",
    "    all_instances: boolean and default is False. if it is True the functin will\n",
    "            return all instances of element on the leaf of supplied chain of elements. Otherwise if it is False the function will \n",
    "            return the first instance it find on the leaf of supplied chain of elements.\n",
    "    '''\n",
    "    retval= None \n",
    "    #dprint(chain)\n",
    "    first = chain.pop(0)\n",
    "    element = soup.find(first.get('element'), attrs = first.get('attrs'))\n",
    "    if len(chain) == 0 :\n",
    "        if all_instances :\n",
    "            retval = soup.find_all(first.get('element'), attrs = first.get('attrs'))\n",
    "        else:\n",
    "            retval = element\n",
    "    else:\n",
    "        retval = get_bs_element(element, chain, all_instances)\n",
    "    return retval"
   ]
  },
  {
   "cell_type": "code",
   "execution_count": 4,
   "metadata": {},
   "outputs": [],
   "source": [
    "def get_bs_element_details(soup, chain, attr = None):\n",
    "    '''\n",
    "    This function retrives either attribute or text of BeautifulSoup \n",
    "    parsed html element.\n",
    "    \n",
    "    return: the specified attributes or the element text if attr = None\n",
    "    Arg:\n",
    "    Soup: is a BeautifulSoup object of parsed html.\n",
    "    chain: is a list of dictionary which has two keys; \n",
    "            1) 'element':string of element to find in soup boject\n",
    "            2) 'attrs': dictinary of attributes to pass to soup find function\n",
    "    attr: is the attributes to be retrived, \n",
    "          If it is None the element text will be returne instead.\n",
    "    '''\n",
    "    retval= None \n",
    "    #dprint(chain)\n",
    "    first = chain.pop(0)\n",
    "    element = soup.find(first.get('element'), attrs = first.get('attrs'))\n",
    "    if element != None:\n",
    "        if len(chain) == 0 :\n",
    "                retval = element.get(attr) if attr != None else element.get_text()\n",
    "        else:\n",
    "            retval = get_bs_element_details(element, chain, attr)\n",
    "    return retval"
   ]
  },
  {
   "cell_type": "code",
   "execution_count": 5,
   "metadata": {},
   "outputs": [],
   "source": [
    "def get_book_list(url):\n",
    "    booklist = list()\n",
    "    rates = {'One': 1, 'Two': 2, 'Three': 3, 'Four': 4, 'Five': 5}\n",
    "    #name, price, rate\n",
    "    response = requests.get(url)\n",
    "    parser = BeautifulSoup(response.text, 'html.parser')\n",
    "    for item in parser.find_all('li', attrs = {'class':'col-xs-6 col-sm-4 col-md-3 col-lg-3'}):\n",
    "        title = get_bs_element_details(item, [{'element':'h3'},{'element':'a'}],'title')\n",
    "        price = get_bs_element_details(item, [{'element':'p', 'attrs':{'class':'price_color'}}])[2:]\n",
    "        rate = rates.get(get_bs_element_details(item,[{'element':'p', 'attrs':{'class': 'star-rating'}}], 'class')[1])\n",
    "        booklist.append([title, price, rate])\n",
    "    #check next page\n",
    "    next_page_link = get_bs_element_details(parser,[{'element':'li', 'attrs':{'class':'next'}}, {'element':'a'}], 'href')\n",
    "    if next_page_link != None:\n",
    "        new_url = url.replace(url.split(sep='/')[-1], next_page_link)\n",
    "        booklist.extend(get_book_list(new_url))\n",
    "    return booklist"
   ]
  },
  {
   "cell_type": "code",
   "execution_count": 6,
   "metadata": {},
   "outputs": [],
   "source": [
    "url ='https://books.toscrape.com/'"
   ]
  },
  {
   "cell_type": "code",
   "execution_count": 7,
   "metadata": {},
   "outputs": [],
   "source": [
    "response = requests.get(url)"
   ]
  },
  {
   "cell_type": "code",
   "execution_count": 8,
   "metadata": {},
   "outputs": [],
   "source": [
    "parser = BeautifulSoup(response.text, 'html.parser')"
   ]
  },
  {
   "cell_type": "code",
   "execution_count": 9,
   "metadata": {},
   "outputs": [
    {
     "name": "stdout",
     "output_type": "stream",
     "text": [
      "Cateory:Travel, No. Books:11\n",
      "Cateory:Mystery, No. Books:32\n",
      "Cateory:Historical Fiction, No. Books:26\n",
      "Cateory:Sequential Art, No. Books:75\n",
      "Cateory:Classics, No. Books:19\n",
      "Cateory:Philosophy, No. Books:11\n",
      "Cateory:Romance, No. Books:35\n",
      "Cateory:Womens Fiction, No. Books:17\n",
      "Cateory:Fiction, No. Books:65\n",
      "Cateory:Childrens, No. Books:29\n",
      "Cateory:Religion, No. Books:7\n",
      "Cateory:Nonfiction, No. Books:110\n",
      "Cateory:Music, No. Books:13\n",
      "Cateory:Default, No. Books:152\n",
      "Cateory:Science Fiction, No. Books:16\n",
      "Cateory:Sports and Games, No. Books:5\n",
      "Cateory:Add a comment, No. Books:67\n",
      "Cateory:Fantasy, No. Books:48\n",
      "Cateory:New Adult, No. Books:6\n",
      "Cateory:Young Adult, No. Books:54\n",
      "Cateory:Science, No. Books:14\n",
      "Cateory:Poetry, No. Books:19\n",
      "Cateory:Paranormal, No. Books:1\n",
      "Cateory:Art, No. Books:8\n",
      "Cateory:Psychology, No. Books:7\n",
      "Cateory:Autobiography, No. Books:9\n",
      "Cateory:Parenting, No. Books:1\n",
      "Cateory:Adult Fiction, No. Books:1\n",
      "Cateory:Humor, No. Books:10\n",
      "Cateory:Horror, No. Books:17\n",
      "Cateory:History, No. Books:18\n",
      "Cateory:Food and Drink, No. Books:30\n",
      "Cateory:Christian Fiction, No. Books:6\n",
      "Cateory:Business, No. Books:12\n",
      "Cateory:Biography, No. Books:5\n",
      "Cateory:Thriller, No. Books:11\n",
      "Cateory:Contemporary, No. Books:3\n",
      "Cateory:Spirituality, No. Books:6\n",
      "Cateory:Academic, No. Books:1\n",
      "Cateory:Self Help, No. Books:5\n",
      "Cateory:Historical, No. Books:2\n",
      "Cateory:Christian, No. Books:3\n",
      "Cateory:Suspense, No. Books:1\n",
      "Cateory:Short Stories, No. Books:1\n",
      "Cateory:Novels, No. Books:1\n",
      "Cateory:Health, No. Books:4\n",
      "Cateory:Politics, No. Books:3\n",
      "Cateory:Cultural, No. Books:1\n",
      "Cateory:Erotica, No. Books:1\n",
      "Cateory:Crime, No. Books:1\n"
     ]
    }
   ],
   "source": [
    "categories = list()\n",
    "for rec in get_bs_element(parser,[{'element':'ul', 'attrs':{'class':'nav nav-list'}} , {'element':'ul'}, {'element':'li'}], all_instances= True):\n",
    "    category = rec.get_text().strip()\n",
    "    c_url =  'https://books.toscrape.com/' + get_bs_element_details(rec, [{'element':'a'}],'href')\n",
    "    book_list = get_book_list (c_url)    \n",
    "    rec = dict({'category':category, 'url':c_url, 'books': book_list})\n",
    "    categories.append(rec)\n",
    "    dprint(f'Cateory:{category}, No. Books:{len(book_list)}')\n",
    "    sleep(10)\n"
   ]
  },
  {
   "cell_type": "code",
   "execution_count": 12,
   "metadata": {},
   "outputs": [],
   "source": [
    "with open('bookslist.csv', 'w', newline='', encoding='UTF8') as file:\n",
    "    file_writer = csv.DictWriter(file,['category', 'title', 'price', 'rate'])\n",
    "    file_writer.writeheader()\n",
    "    for category in categories:\n",
    "        for book in category.get('books'):\n",
    "            file_writer.writerow({'category':category.get('category'), 'title':book[0], 'price':book[1], 'rate':book[2]})\n"
   ]
  },
  {
   "cell_type": "code",
   "execution_count": null,
   "metadata": {},
   "outputs": [],
   "source": []
  },
  {
   "cell_type": "code",
   "execution_count": null,
   "metadata": {},
   "outputs": [],
   "source": []
  }
 ],
 "metadata": {
  "kernelspec": {
   "display_name": "Python 3",
   "language": "python",
   "name": "python3"
  },
  "language_info": {
   "codemirror_mode": {
    "name": "ipython",
    "version": 3
   },
   "file_extension": ".py",
   "mimetype": "text/x-python",
   "name": "python",
   "nbconvert_exporter": "python",
   "pygments_lexer": "ipython3",
   "version": "3.8.5"
  }
 },
 "nbformat": 4,
 "nbformat_minor": 4
}
