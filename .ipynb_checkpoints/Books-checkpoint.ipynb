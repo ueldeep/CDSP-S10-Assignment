{
 "cells": [
  {
   "cell_type": "code",
   "execution_count": 1,
   "metadata": {},
   "outputs": [],
   "source": [
    "import requests\n",
    "import string\n",
    "from bs4 import BeautifulSoup\n",
    "import csv"
   ]
  },
  {
   "cell_type": "code",
   "execution_count": 16,
   "metadata": {},
   "outputs": [],
   "source": [
    "debug = True\n",
    "def dprint (str):\n",
    "    if debug: print(str)"
   ]
  },
  {
   "cell_type": "code",
   "execution_count": 17,
   "metadata": {},
   "outputs": [],
   "source": [
    "def get_bs_element(soup, chain, all_instances = False):\n",
    "    '''\n",
    "    This function retrives an element from BeautifulSoup parsed html text.\n",
    "    \n",
    "    return: BeautifulSoup elements if all_instance is True or the first \n",
    "            instant if it is False\n",
    "    Arg:\n",
    "    Soup: is a BeautifulSoup object of parsed html.\n",
    "    chain: is a list of dictionary which has two keys:\n",
    "            1) 'element':string of element to find in soup boject\n",
    "            2) 'attrs': dictinaru of attributes to pass to soup find function\n",
    "            e.g:\n",
    "            [{'element':'lu', 'attrs':{}},\n",
    "             {'element':'lu'},\n",
    "             {'element':'li', 'attrs':{'class':'value'}] \n",
    "    all_instances: boolean and default is False. if it is True the functin will\n",
    "            return all instances of element on the leaf of supplied chain of elements. Otherwise if it is False the function will \n",
    "            return the first instance it find on the leaf of supplied chain of elements.\n",
    "    '''\n",
    "    retval= None \n",
    "    #dprint(chain)\n",
    "    first = chain.pop(0)\n",
    "    element = soup.find(first.get('element'), attrs = first.get('attrs'))\n",
    "    if len(chain) == 0 :\n",
    "        if all_instances :\n",
    "            retval = soup.find_all(first.get('element'), attrs = first.get('attrs'))\n",
    "        else:\n",
    "            retval = element\n",
    "    else:\n",
    "        retval = get_bs_element(element, chain, all_instances)\n",
    "    return retval"
   ]
  },
  {
   "cell_type": "code",
   "execution_count": 18,
   "metadata": {},
   "outputs": [],
   "source": [
    "def get_bs_element_details(soup, chain, attr = None):\n",
    "    '''\n",
    "    This function retrives either attribute or text of BeautifulSoup \n",
    "    parsed html element.\n",
    "    \n",
    "    return: the specified attributes or the element text if attr = None\n",
    "    Arg:\n",
    "    Soup: is a BeautifulSoup object of parsed html.\n",
    "    chain: is a list of dictionary which has two keys; \n",
    "            1) 'element':string of element to find in soup boject\n",
    "            2) 'attrs': dictinary of attributes to pass to soup find function\n",
    "    attr: is the attributes to be retrived, \n",
    "          If it is None the element text will be returne instead.\n",
    "    '''\n",
    "    retval= None \n",
    "    #dprint(chain)\n",
    "    first = chain.pop(0)\n",
    "    element = soup.find(first.get('element'), attrs = first.get('attrs'))\n",
    "    if element != None:\n",
    "        if len(chain) == 0 :\n",
    "                retval = element.get(attr) if attr != None else element.get_text()\n",
    "        else:\n",
    "            retval = get_bs_element_details(element, chain, attr)\n",
    "    return retval"
   ]
  },
  {
   "cell_type": "code",
   "execution_count": 26,
   "metadata": {},
   "outputs": [],
   "source": [
    "def get_book_list(url):\n",
    "    booklist = list()\n",
    "    rates = {'One': 1, 'Two': 2, 'Three': 3, 'Four': 4, 'Five': 5}\n",
    "    #name, price, rate\n",
    "    response = requests.get(url)\n",
    "    parser = BeautifulSoup(response.text, 'html.parser')\n",
    "    for item in parser.find_all('li', attrs = {'class':'col-xs-6 col-sm-4 col-md-3 col-lg-3'}):\n",
    "        title = get_bs_element_details(item, [{'element':'h3'},{'element':'a'}],'title')\n",
    "        price = get_bs_element_details(item, [{'element':'p', 'attrs':{'class':'price_color'}}])[2:]\n",
    "        rate = rates.get(get_bs_element_details(item,[{'element':'p', 'attrs':{'class': 'star-rating'}}], 'class')[1])\n",
    "        booklist.append([title, price, rate])\n",
    "    #check next page\n",
    "    next_page_link = get_bs_element_details(parser,[{'element':'li', 'attrs':{'class':'next'}}, {'element':'a'}], 'href')\n",
    "    if next_page_link != None:\n",
    "        new_url = url.replace('index.html', next_page_link)\n",
    "        dprint(new_url)\n",
    "        booklist.extend(get_book_list(new_url))\n",
    "    return booklist"
   ]
  },
  {
   "cell_type": "code",
   "execution_count": 20,
   "metadata": {},
   "outputs": [],
   "source": [
    "url ='https://books.toscrape.com/'"
   ]
  },
  {
   "cell_type": "code",
   "execution_count": 21,
   "metadata": {},
   "outputs": [],
   "source": [
    "response = requests.get(url)"
   ]
  },
  {
   "cell_type": "code",
   "execution_count": 22,
   "metadata": {},
   "outputs": [],
   "source": [
    "parser = BeautifulSoup(response.text, 'html.parser')"
   ]
  },
  {
   "cell_type": "code",
   "execution_count": 23,
   "metadata": {},
   "outputs": [
    {
     "name": "stdout",
     "output_type": "stream",
     "text": [
      "[{'category': 'Travel', 'url': 'https://books.toscrape.com/catalogue/category/books/travel_2/index.html'}, {'category': 'Mystery', 'url': 'https://books.toscrape.com/catalogue/category/books/mystery_3/index.html'}, {'category': 'Historical Fiction', 'url': 'https://books.toscrape.com/catalogue/category/books/historical-fiction_4/index.html'}, {'category': 'Sequential Art', 'url': 'https://books.toscrape.com/catalogue/category/books/sequential-art_5/index.html'}, {'category': 'Classics', 'url': 'https://books.toscrape.com/catalogue/category/books/classics_6/index.html'}, {'category': 'Philosophy', 'url': 'https://books.toscrape.com/catalogue/category/books/philosophy_7/index.html'}, {'category': 'Romance', 'url': 'https://books.toscrape.com/catalogue/category/books/romance_8/index.html'}, {'category': 'Womens Fiction', 'url': 'https://books.toscrape.com/catalogue/category/books/womens-fiction_9/index.html'}, {'category': 'Fiction', 'url': 'https://books.toscrape.com/catalogue/category/books/fiction_10/index.html'}, {'category': 'Childrens', 'url': 'https://books.toscrape.com/catalogue/category/books/childrens_11/index.html'}, {'category': 'Religion', 'url': 'https://books.toscrape.com/catalogue/category/books/religion_12/index.html'}, {'category': 'Nonfiction', 'url': 'https://books.toscrape.com/catalogue/category/books/nonfiction_13/index.html'}, {'category': 'Music', 'url': 'https://books.toscrape.com/catalogue/category/books/music_14/index.html'}, {'category': 'Default', 'url': 'https://books.toscrape.com/catalogue/category/books/default_15/index.html'}, {'category': 'Science Fiction', 'url': 'https://books.toscrape.com/catalogue/category/books/science-fiction_16/index.html'}, {'category': 'Sports and Games', 'url': 'https://books.toscrape.com/catalogue/category/books/sports-and-games_17/index.html'}, {'category': 'Add a comment', 'url': 'https://books.toscrape.com/catalogue/category/books/add-a-comment_18/index.html'}, {'category': 'Fantasy', 'url': 'https://books.toscrape.com/catalogue/category/books/fantasy_19/index.html'}, {'category': 'New Adult', 'url': 'https://books.toscrape.com/catalogue/category/books/new-adult_20/index.html'}, {'category': 'Young Adult', 'url': 'https://books.toscrape.com/catalogue/category/books/young-adult_21/index.html'}, {'category': 'Science', 'url': 'https://books.toscrape.com/catalogue/category/books/science_22/index.html'}, {'category': 'Poetry', 'url': 'https://books.toscrape.com/catalogue/category/books/poetry_23/index.html'}, {'category': 'Paranormal', 'url': 'https://books.toscrape.com/catalogue/category/books/paranormal_24/index.html'}, {'category': 'Art', 'url': 'https://books.toscrape.com/catalogue/category/books/art_25/index.html'}, {'category': 'Psychology', 'url': 'https://books.toscrape.com/catalogue/category/books/psychology_26/index.html'}, {'category': 'Autobiography', 'url': 'https://books.toscrape.com/catalogue/category/books/autobiography_27/index.html'}, {'category': 'Parenting', 'url': 'https://books.toscrape.com/catalogue/category/books/parenting_28/index.html'}, {'category': 'Adult Fiction', 'url': 'https://books.toscrape.com/catalogue/category/books/adult-fiction_29/index.html'}, {'category': 'Humor', 'url': 'https://books.toscrape.com/catalogue/category/books/humor_30/index.html'}, {'category': 'Horror', 'url': 'https://books.toscrape.com/catalogue/category/books/horror_31/index.html'}, {'category': 'History', 'url': 'https://books.toscrape.com/catalogue/category/books/history_32/index.html'}, {'category': 'Food and Drink', 'url': 'https://books.toscrape.com/catalogue/category/books/food-and-drink_33/index.html'}, {'category': 'Christian Fiction', 'url': 'https://books.toscrape.com/catalogue/category/books/christian-fiction_34/index.html'}, {'category': 'Business', 'url': 'https://books.toscrape.com/catalogue/category/books/business_35/index.html'}, {'category': 'Biography', 'url': 'https://books.toscrape.com/catalogue/category/books/biography_36/index.html'}, {'category': 'Thriller', 'url': 'https://books.toscrape.com/catalogue/category/books/thriller_37/index.html'}, {'category': 'Contemporary', 'url': 'https://books.toscrape.com/catalogue/category/books/contemporary_38/index.html'}, {'category': 'Spirituality', 'url': 'https://books.toscrape.com/catalogue/category/books/spirituality_39/index.html'}, {'category': 'Academic', 'url': 'https://books.toscrape.com/catalogue/category/books/academic_40/index.html'}, {'category': 'Self Help', 'url': 'https://books.toscrape.com/catalogue/category/books/self-help_41/index.html'}, {'category': 'Historical', 'url': 'https://books.toscrape.com/catalogue/category/books/historical_42/index.html'}, {'category': 'Christian', 'url': 'https://books.toscrape.com/catalogue/category/books/christian_43/index.html'}, {'category': 'Suspense', 'url': 'https://books.toscrape.com/catalogue/category/books/suspense_44/index.html'}, {'category': 'Short Stories', 'url': 'https://books.toscrape.com/catalogue/category/books/short-stories_45/index.html'}, {'category': 'Novels', 'url': 'https://books.toscrape.com/catalogue/category/books/novels_46/index.html'}, {'category': 'Health', 'url': 'https://books.toscrape.com/catalogue/category/books/health_47/index.html'}, {'category': 'Politics', 'url': 'https://books.toscrape.com/catalogue/category/books/politics_48/index.html'}, {'category': 'Cultural', 'url': 'https://books.toscrape.com/catalogue/category/books/cultural_49/index.html'}, {'category': 'Erotica', 'url': 'https://books.toscrape.com/catalogue/category/books/erotica_50/index.html'}, {'category': 'Crime', 'url': 'https://books.toscrape.com/catalogue/category/books/crime_51/index.html'}]\n"
     ]
    }
   ],
   "source": [
    "categories = list()\n",
    "for rec in get_bs_element(parser,[{'element':'ul', 'attrs':{'class':'nav nav-list'}} , {'element':'ul'}, {'element':'li'}], all_instances= True):\n",
    "    category = rec.get_text().strip()\n",
    "    c_url =  'https://books.toscrape.com/' + get_bs_element_details(rec, [{'element':'a'}],'href')\n",
    "    rec = dict({'category':category, 'url':c_url})\n",
    "    categories.append(rec)\n",
    "dprint(categories)"
   ]
  },
  {
   "cell_type": "code",
   "execution_count": 27,
   "metadata": {},
   "outputs": [
    {
     "name": "stdout",
     "output_type": "stream",
     "text": [
      "https://books.toscrape.com/catalogue/category/books/historical-fiction_4/page-2.html\n"
     ]
    },
    {
     "data": {
      "text/plain": [
       "[['Tipping the Velvet', '53.74', 1],\n",
       " ['Forever and Forever: The Courtship of Henry Longfellow and Fanny Appleton',\n",
       "  '29.69',\n",
       "  3],\n",
       " ['A Flight of Arrows (The Pathfinders #2)', '55.53', 5],\n",
       " ['The House by the Lake', '36.95', 1],\n",
       " ['Mrs. Houdini', '30.25', 5],\n",
       " ['The Marriage of Opposites', '28.08', 4],\n",
       " ['Glory over Everything: Beyond The Kitchen House', '45.84', 3],\n",
       " ['Love, Lies and Spies', '20.55', 2],\n",
       " ['A Paris Apartment', '39.01', 4],\n",
       " ['Lilac Girls', '17.28', 2],\n",
       " ['The Constant Princess (The Tudor Court #1)', '16.62', 3],\n",
       " ['The Invention of Wings', '37.34', 1],\n",
       " ['World Without End (The Pillars of the Earth #2)', '32.97', 4],\n",
       " ['The Passion of Dolssa', '28.32', 5],\n",
       " ['Girl With a Pearl Earring', '26.77', 1],\n",
       " ['Voyager (Outlander #3)', '21.07', 5],\n",
       " ['The Red Tent', '35.66', 5],\n",
       " ['The Last Painting of Sara de Vos', '55.55', 2],\n",
       " ['The Guernsey Literary and Potato Peel Pie Society', '49.53', 1],\n",
       " ['Girl in the Blue Coat', '46.83', 2],\n",
       " ['Between Shades of Gray', '20.79', 5],\n",
       " ['While You Were Mine', '41.32', 5],\n",
       " ['The Secret Healer', '34.56', 3],\n",
       " ['Starlark', '25.83', 3],\n",
       " ['Lost Among the Living', '27.70', 4],\n",
       " [\"A Spy's Devotion (The Regency Spies of London #1)\", '16.97', 5]]"
      ]
     },
     "execution_count": 27,
     "metadata": {},
     "output_type": "execute_result"
    }
   ],
   "source": [
    "book_list = get_book_list (categories[2]['url'])\n",
    "book_list"
   ]
  },
  {
   "cell_type": "code",
   "execution_count": 28,
   "metadata": {},
   "outputs": [
    {
     "data": {
      "text/plain": [
       "26"
      ]
     },
     "execution_count": 28,
     "metadata": {},
     "output_type": "execute_result"
    }
   ],
   "source": [
    "len(book_list)"
   ]
  },
  {
   "cell_type": "code",
   "execution_count": null,
   "metadata": {},
   "outputs": [],
   "source": []
  },
  {
   "cell_type": "code",
   "execution_count": null,
   "metadata": {},
   "outputs": [],
   "source": [
    "categories = list()\n",
    "#for rec in parser.find('ul', attrs={'class':'nav nav-list'}).find('ul').find_all('li'):\n",
    "for rec in get_bs_element(parser,[{'element':'ul', 'attrs':{'class':'nav nav-list'}} , {'element':'ul'}, {'element':'li'}], all_instances= True):\n",
    "    category = rec.get_text().strip()\n",
    "    #c_url =  'https://books.toscrape.com/' + rec.find('a').get('href')\n",
    "    c_url =  'https://books.toscrape.com/' + get_bs_element_details(rec, [{'element':'a'}],'href')\n",
    "    rec = dict({'category':category, 'url':c_url})\n",
    "    categories.append(rec)\n",
    "#dprint(categories)\n",
    "categories"
   ]
  },
  {
   "cell_type": "code",
   "execution_count": null,
   "metadata": {},
   "outputs": [],
   "source": [
    "def get_book_list(url):\n",
    "    booklist = list()\n",
    "    rates = {'One': 1, 'Two': 2, 'Three': 3, 'Four': 4, 'Five': 5}\n",
    "    #name, price, rate\n",
    "    response = requests.get(url)\n",
    "    parser = BeautifulSoup(response.text, 'html.parser')\n",
    "    for item in parser.find_all('li', attrs = {'class':'col-xs-6 col-sm-4 col-md-3 col-lg-3'}):\n",
    "        #title = item.find('h3').find('a').get('title')\n",
    "        title = get_bs_element_details(item, [{'element':'h3'},{'element':'a'}],'title')\n",
    "        #price = item.find('p', attrs = {'class':'price_color'}).get_text()[2:]\n",
    "        price = get_bs_element_details(item, [{'element':'p', 'attrs':{'class':'price_color'}}])[2:]\n",
    "        #rate = rates[item.find('p', attrs={'class': 'star-rating'}).get('class')[1]]\n",
    "        rate = rates.get(get_bs_element_details(item,[{'element':'p', 'attrs':{'class': 'star-rating'}}], 'class')[1])\n",
    "        #dprint(f'title:{title} price:{price} rate:{rate}')\n",
    "        booklist.append([title, price, rate])\n",
    "    #check next page\n",
    "    #next_page = parser.find('li', attrs={'class':'next'})\n",
    "    #if next_page :\n",
    "    #    next_page_link = next_page.find('a')\n",
    "    #    if next_page_link :\n",
    "    #        new_url = url.replace('index.html', next_page_link.get('href'))\n",
    "    #        dprint(new_url)\n",
    "     #       booklist.extend(get_book_list(new_url))\n",
    "    next_page_link = get_bs_element_details(parser,[{'element':'li', 'attrs'={'class':'next'}}, {'element':'a'}], 'href')\n",
    "    if next_page_lint != None:\n",
    "        new_url = url.replace('index.html', next_page_link)\n",
    "        dprint(new_url)\n",
    "        booklist.extend(get_book_list(new_url))\n",
    "        \n",
    "                                                     \n",
    "    #dprint(next_page_link)\n",
    "    return booklist"
   ]
  },
  {
   "cell_type": "code",
   "execution_count": null,
   "metadata": {},
   "outputs": [],
   "source": [
    "book_list = get_book_list (categories[2]['url'])\n",
    "book_list"
   ]
  },
  {
   "cell_type": "code",
   "execution_count": null,
   "metadata": {},
   "outputs": [],
   "source": [
    "categories[0]['url']"
   ]
  },
  {
   "cell_type": "code",
   "execution_count": null,
   "metadata": {},
   "outputs": [],
   "source": [
    "len(book_list)"
   ]
  },
  {
   "cell_type": "code",
   "execution_count": null,
   "metadata": {},
   "outputs": [],
   "source": []
  }
 ],
 "metadata": {
  "kernelspec": {
   "display_name": "Python 3",
   "language": "python",
   "name": "python3"
  },
  "language_info": {
   "codemirror_mode": {
    "name": "ipython",
    "version": 3
   },
   "file_extension": ".py",
   "mimetype": "text/x-python",
   "name": "python",
   "nbconvert_exporter": "python",
   "pygments_lexer": "ipython3",
   "version": "3.8.5"
  }
 },
 "nbformat": 4,
 "nbformat_minor": 4
}
