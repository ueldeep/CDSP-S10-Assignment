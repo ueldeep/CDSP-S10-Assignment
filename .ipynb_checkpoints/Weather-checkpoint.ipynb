{
 "cells": [
  {
   "cell_type": "code",
   "execution_count": 1,
   "metadata": {},
   "outputs": [],
   "source": [
    "from selenium import webdriver\n",
    "from time import sleep\n",
    "import csv"
   ]
  },
  {
   "cell_type": "code",
   "execution_count": 2,
   "metadata": {},
   "outputs": [],
   "source": [
    "driver = webdriver.Firefox()"
   ]
  },
  {
   "cell_type": "code",
   "execution_count": 3,
   "metadata": {},
   "outputs": [],
   "source": [
    "url ='https://eg.freemeteo.com/weather/cairo/current-weather/location/?gid=360630&language=english&country=egypt'"
   ]
  },
  {
   "cell_type": "code",
   "execution_count": 4,
   "metadata": {},
   "outputs": [],
   "source": [
    "file_name = 'WeatherData.csv'"
   ]
  },
  {
   "cell_type": "code",
   "execution_count": 5,
   "metadata": {},
   "outputs": [],
   "source": [
    "debug = True\n",
    "number_reads = 1"
   ]
  },
  {
   "cell_type": "code",
   "execution_count": 7,
   "metadata": {},
   "outputs": [
    {
     "name": "stdout",
     "output_type": "stream",
     "text": [
      "Trial #1\n",
      "26\n",
      "20\n",
      "['Rel. humidity: 51%', 'Visibility: > 10000m', 'Pressure: 1019.0mb\\n\\nScattered Clouds at 760m']\n",
      "51\n",
      "> 10000\n",
      "1019.0\n",
      "17:38\n",
      "22 Oct 2021\n"
     ]
    }
   ],
   "source": [
    "with open(file_name, 'w', newline='') as weather_file:\n",
    "    file_writer = csv.DictWriter(weather_file,['temperature', 'humidity', 'visibility', 'air pressure', 'wind speed', 'date','time'])\n",
    "    file_writer.writeheader()\n",
    "    for i in range (1,number_reads+1):\n",
    "        if debug: print(f'Trial #{i}')\n",
    "        driver.get(url)\n",
    "\n",
    "        elem = driver.find_element_by_class_name('temp')\n",
    "        temperature = elem.text.strip()[:-2]\n",
    "        if debug: print(temperature)\n",
    "\n",
    "        elem = driver.find_element_by_class_name('wind')\n",
    "        wind_speed = elem.text.split()[1]\n",
    "        if debug: print(wind_speed)\n",
    "\n",
    "        elem = driver.find_element_by_class_name('stats')\n",
    "        items = elem.text.split(' | ')\n",
    "        if debug: print(items)\n",
    "\n",
    "        humidity = items[0][items[0].find(':')+1:].replace('%', '').strip()\n",
    "        if debug: print(humidity)\n",
    "\n",
    "        visibility = items[1][items[1].find(':')+1:].replace('m', '').strip()\n",
    "        if debug: print(visibility)\n",
    "\n",
    "        air_pressure = items[2][items[2].find(':')+1:items[2].find('Scattered Clouds at ')].replace('mb', '').strip()\n",
    "        if debug: print(air_pressure)\n",
    "\n",
    "        elem = driver.find_element_by_class_name('time-part')\n",
    "        time = elem.text\n",
    "        if debug: print(time)\n",
    "\n",
    "        elem = driver.find_element_by_class_name('date-part')\n",
    "        date = elem.text\n",
    "\n",
    "        file_writer.writerow({'temperature':temperature, 'humidity':humidity, 'visibility':visibility, 'air pressure':air_pressure, 'wind speed':wind_speed, 'date':date,'time':time})\n",
    "        if debug: print(date)\n",
    "        sleep(60)"
   ]
  },
  {
   "cell_type": "code",
   "execution_count": null,
   "metadata": {},
   "outputs": [],
   "source": [
    "driver.close()"
   ]
  }
 ],
 "metadata": {
  "kernelspec": {
   "display_name": "Python 3",
   "language": "python",
   "name": "python3"
  },
  "language_info": {
   "codemirror_mode": {
    "name": "ipython",
    "version": 3
   },
   "file_extension": ".py",
   "mimetype": "text/x-python",
   "name": "python",
   "nbconvert_exporter": "python",
   "pygments_lexer": "ipython3",
   "version": "3.8.5"
  }
 },
 "nbformat": 4,
 "nbformat_minor": 4
}
